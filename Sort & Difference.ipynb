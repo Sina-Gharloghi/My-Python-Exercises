{
  "nbformat": 4,
  "nbformat_minor": 0,
  "metadata": {
    "colab": {
      "provenance": [],
      "authorship_tag": "ABX9TyOMMRHCmMzYlFAvUjDZavb2",
      "include_colab_link": true
    },
    "kernelspec": {
      "name": "python3",
      "display_name": "Python 3"
    },
    "language_info": {
      "name": "python"
    }
  },
  "cells": [
    {
      "cell_type": "markdown",
      "metadata": {
        "id": "view-in-github",
        "colab_type": "text"
      },
      "source": [
        "<a href=\"https://colab.research.google.com/github/Sina-Gharloghi/My-Python-Exercises/blob/main/Sort%20%26%20Difference.ipynb\" target=\"_parent\"><img src=\"https://colab.research.google.com/assets/colab-badge.svg\" alt=\"Open In Colab\"/></a>"
      ]
    },
    {
      "cell_type": "code",
      "execution_count": 44,
      "metadata": {
        "colab": {
          "base_uri": "https://localhost:8080/"
        },
        "id": "hwDwzOj-T7d8",
        "outputId": "35c89d9f-ca7e-46c1-ae27-d65baed2d7b6"
      },
      "outputs": [
        {
          "output_type": "stream",
          "name": "stdout",
          "text": [
            "length of the list : 3\n",
            "enter the number : 1\n",
            "enter the number : 5\n",
            "enter the number : 3\n",
            "dif =  4.0\n"
          ]
        }
      ],
      "source": [
        "a = int(input(\"length of the list : \"))\n",
        "b=[]\n",
        "\n",
        "for x in range (a):\n",
        "  b.append( float(input(\"enter the number : \")) )\n",
        "\n",
        "b.sort()\n",
        "\n",
        "Max = float(b[len(b)-1])\n",
        "Min = float(b[0])\n",
        "\n",
        "dif = Max - Min\n",
        "\n",
        "print (\"dif = \" , dif)\n",
        "  \n"
      ]
    }
  ]
}