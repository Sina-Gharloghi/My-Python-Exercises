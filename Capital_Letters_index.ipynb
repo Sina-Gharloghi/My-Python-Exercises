{
  "nbformat": 4,
  "nbformat_minor": 0,
  "metadata": {
    "colab": {
      "provenance": [],
      "authorship_tag": "ABX9TyPaBFjYVed1NnIMy8YD/q7t",
      "include_colab_link": true
    },
    "kernelspec": {
      "name": "python3",
      "display_name": "Python 3"
    },
    "language_info": {
      "name": "python"
    }
  },
  "cells": [
    {
      "cell_type": "markdown",
      "metadata": {
        "id": "view-in-github",
        "colab_type": "text"
      },
      "source": [
        "<a href=\"https://colab.research.google.com/github/Sina-Gharloghi/My-Python-Exercises/blob/main/Capital_Letters_index.ipynb\" target=\"_parent\"><img src=\"https://colab.research.google.com/assets/colab-badge.svg\" alt=\"Open In Colab\"/></a>"
      ]
    },
    {
      "cell_type": "code",
      "execution_count": 3,
      "metadata": {
        "colab": {
          "base_uri": "https://localhost:8080/"
        },
        "id": "hwDwzOj-T7d8",
        "outputId": "5afbcd73-d05d-4154-e040-81e1f4fc238a"
      },
      "outputs": [
        {
          "output_type": "stream",
          "name": "stdout",
          "text": [
            "Enter your word : SINA\n",
            "[0, 1, 2, 3]\n"
          ]
        }
      ],
      "source": [
        "a = str(input(\"Enter your word : \"))\n",
        "U = \"ABCDEFGHIJKLMNOPQRSTUVWXYZ\"\n",
        "\n",
        "ind = []\n",
        "\n",
        "for x in a:\n",
        "  if x in U:\n",
        "    ind.append(a.index(x))\n",
        "\n",
        "print (ind)\n"
      ]
    }
  ]
}