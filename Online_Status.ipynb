{
  "nbformat": 4,
  "nbformat_minor": 0,
  "metadata": {
    "colab": {
      "provenance": [],
      "authorship_tag": "ABX9TyOLTwwjO2FGLqeWasnoyNmB",
      "include_colab_link": true
    },
    "kernelspec": {
      "name": "python3",
      "display_name": "Python 3"
    },
    "language_info": {
      "name": "python"
    }
  },
  "cells": [
    {
      "cell_type": "markdown",
      "metadata": {
        "id": "view-in-github",
        "colab_type": "text"
      },
      "source": [
        "<a href=\"https://colab.research.google.com/github/Sina-Gharloghi/My-Python-Exercises/blob/main/Online_Status.ipynb\" target=\"_parent\"><img src=\"https://colab.research.google.com/assets/colab-badge.svg\" alt=\"Open In Colab\"/></a>"
      ]
    },
    {
      "cell_type": "code",
      "execution_count": 34,
      "metadata": {
        "colab": {
          "base_uri": "https://localhost:8080/"
        },
        "id": "hwDwzOj-T7d8",
        "outputId": "8b77b8b3-036b-40ba-a1ff-de9bceee497a"
      },
      "outputs": [
        {
          "output_type": "stream",
          "name": "stdout",
          "text": [
            "online =  3\n"
          ]
        }
      ],
      "source": [
        "statuses = {\n",
        "    \"Alice\": \"online\",\n",
        "    \"Bob\": \"offline\",\n",
        "    \"Eve\": \"online\",\n",
        "    \"Frank\": \"online\",\n",
        "}\n",
        "\n",
        "i = int(0)\n",
        "k =[]\n",
        "\n",
        "for x in statuses.values():\n",
        "  k.append(x)\n",
        "\n",
        "  if x == \"online\":\n",
        "    i = i+1\n",
        "print (\"online = \", i)\n"
      ]
    }
  ]
}