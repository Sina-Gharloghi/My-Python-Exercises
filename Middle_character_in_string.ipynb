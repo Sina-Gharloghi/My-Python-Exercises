{
  "nbformat": 4,
  "nbformat_minor": 0,
  "metadata": {
    "colab": {
      "provenance": [],
      "authorship_tag": "ABX9TyM2GnnjPor26lfW6ZItlbh4",
      "include_colab_link": true
    },
    "kernelspec": {
      "name": "python3",
      "display_name": "Python 3"
    },
    "language_info": {
      "name": "python"
    }
  },
  "cells": [
    {
      "cell_type": "markdown",
      "metadata": {
        "id": "view-in-github",
        "colab_type": "text"
      },
      "source": [
        "<a href=\"https://colab.research.google.com/github/Sina-Gharloghi/My-Python-Exercises/blob/main/Middle_character_in_string.ipynb\" target=\"_parent\"><img src=\"https://colab.research.google.com/assets/colab-badge.svg\" alt=\"Open In Colab\"/></a>"
      ]
    },
    {
      "cell_type": "code",
      "execution_count": 16,
      "metadata": {
        "colab": {
          "base_uri": "https://localhost:8080/"
        },
        "id": "hwDwzOj-T7d8",
        "outputId": "e8b738cc-c3ec-4d71-b5c3-f4eb778904f7"
      },
      "outputs": [
        {
          "output_type": "stream",
          "name": "stdout",
          "text": [
            "Enter your string : Mercedes\n",
            "amount =  8\n",
            "There is no middle character\n"
          ]
        }
      ],
      "source": [
        "a = str(input(\"Enter your string : \"))\n",
        "i = int(0)\n",
        "\n",
        "for x in a:\n",
        "  i = i+1\n",
        "\n",
        "print (\"amount = \", i)\n",
        "\n",
        "if i%2 == 0:\n",
        "  print (\"There is no middle character\")\n",
        "else:\n",
        "  mid = int(i/2)\n",
        "\n",
        "  print (\"Mid Char is : \", a[mid] )"
      ]
    }
  ]
}