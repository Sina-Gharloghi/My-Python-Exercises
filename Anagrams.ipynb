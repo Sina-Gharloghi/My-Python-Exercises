{
  "nbformat": 4,
  "nbformat_minor": 0,
  "metadata": {
    "colab": {
      "provenance": [],
      "authorship_tag": "ABX9TyOStuwX56kJcnn0vxS6OvdC",
      "include_colab_link": true
    },
    "kernelspec": {
      "name": "python3",
      "display_name": "Python 3"
    },
    "language_info": {
      "name": "python"
    }
  },
  "cells": [
    {
      "cell_type": "markdown",
      "metadata": {
        "id": "view-in-github",
        "colab_type": "text"
      },
      "source": [
        "<a href=\"https://colab.research.google.com/github/Sina-Gharloghi/My-Python-Exercises/blob/main/Anagrams.ipynb\" target=\"_parent\"><img src=\"https://colab.research.google.com/assets/colab-badge.svg\" alt=\"Open In Colab\"/></a>"
      ]
    },
    {
      "cell_type": "code",
      "execution_count": 8,
      "metadata": {
        "colab": {
          "base_uri": "https://localhost:8080/"
        },
        "id": "hwDwzOj-T7d8",
        "outputId": "5a02ee87-a423-46d1-e841-c241b05ba211"
      },
      "outputs": [
        {
          "output_type": "stream",
          "name": "stdout",
          "text": [
            "word 1 : sina\n",
            "word 2 : mamd\n",
            "false\n"
          ]
        }
      ],
      "source": [
        "a  = str(input(\"word 1 : \"))\n",
        "b  = str(input(\"word 2 : \"))\n",
        "\n",
        "if len(a) == len(b):\n",
        "  s =[]\n",
        "  for x in a:\n",
        "    if x in b:\n",
        "      s.append(x)\n",
        "\n",
        "  if len(s) == len(a):\n",
        "    print(\"true\")\n",
        "  else:\n",
        "    print(\"false\")\n",
        "\n",
        "else:\n",
        "  print(\"false\")"
      ]
    }
  ]
}