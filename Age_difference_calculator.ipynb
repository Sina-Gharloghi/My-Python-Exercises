{
  "nbformat": 4,
  "nbformat_minor": 0,
  "metadata": {
    "colab": {
      "provenance": [],
      "authorship_tag": "ABX9TyOoJ9XwH5HnxV/HIYBuxrOe",
      "include_colab_link": true
    },
    "kernelspec": {
      "name": "python3",
      "display_name": "Python 3"
    },
    "language_info": {
      "name": "python"
    }
  },
  "cells": [
    {
      "cell_type": "markdown",
      "metadata": {
        "id": "view-in-github",
        "colab_type": "text"
      },
      "source": [
        "<a href=\"https://colab.research.google.com/github/Sina-Gharloghi/My-Python-Exercises/blob/main/Age_difference_calculator.ipynb\" target=\"_parent\"><img src=\"https://colab.research.google.com/assets/colab-badge.svg\" alt=\"Open In Colab\"/></a>"
      ]
    },
    {
      "cell_type": "code",
      "execution_count": 24,
      "metadata": {
        "colab": {
          "base_uri": "https://localhost:8080/"
        },
        "id": "hwDwzOj-T7d8",
        "outputId": "202515e8-828a-434b-cef8-383e63473551"
      },
      "outputs": [
        {
          "output_type": "stream",
          "name": "stdout",
          "text": [
            "enter day : 23\n",
            "enter month : 1\n",
            "enter year : 2000\n",
            "enter day : 12\n",
            "enter month : 10\n",
            "enter year : 1990\n",
            "y is 9 year(s)  3 month(s) &  15 day(s) older\n"
          ]
        }
      ],
      "source": [
        "import datetime\n",
        "\n",
        "def get_date():\n",
        "  global a,b,c\n",
        "  a = int(input(\"enter day : \"))\n",
        "  b = int(input(\"enter month : \"))\n",
        "  c = int(input(\"enter year : \"))\n",
        "\n",
        "get_date()\n",
        "\n",
        "x = datetime.datetime(c,b,a)\n",
        "\n",
        "get_date()\n",
        "y = datetime.datetime(c,b,a)\n",
        "\n",
        "dif = abs(x - y)\n",
        "\n",
        "days = dif.days\n",
        "\n",
        "def year_calc(days):\n",
        "  global a,m,d\n",
        "  a = 0\n",
        "  m = 0\n",
        "  d = 0\n",
        "\n",
        "  while days >= 365:\n",
        "    days = days - 365\n",
        "    a = a+1\n",
        "  else:\n",
        "    while days >=30:\n",
        "      days = days - 30\n",
        "      m = m+1\n",
        "    \n",
        "    else:\n",
        "      d = days  \n",
        " \n",
        "year_calc(days)\n",
        "\n",
        "if x > y:\n",
        "  print (\"y is\" ,a, \"year(s) \",m,\"month(s) & \",d, \"day(s) older\")\n",
        "else:\n",
        "  print (\"x is\" ,a, \"year(s) - \",m,\"month(s) & \",d, \"day(s) older\")"
      ]
    }
  ]
}